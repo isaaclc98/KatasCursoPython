{
 "cells": [
  {
   "cell_type": "markdown",
   "metadata": {},
   "source": [
    "# Módulo 9 Funciones"
   ]
  },
  {
   "cell_type": "markdown",
   "metadata": {},
   "source": [
    "## Ejercicio 1"
   ]
  },
  {
   "cell_type": "code",
   "execution_count": 4,
   "metadata": {},
   "outputs": [],
   "source": [
    "# Función para leer 3 tanques de combustible y muestre el promedio\n",
    "def reporte_combustible(tanque1,tanque2,tanqueReserva):\n",
    "    promedio = (tanque1+tanque2+tanqueReserva)/3\n",
    "    return f\"\"\"Reporte de combustible:\n",
    "    Promedio: {promedio}%,\n",
    "    -----------------------------------------\n",
    "    --Detalle de los tanques--\n",
    "    tanque1: {tanque1}%; tanque2: {tanque2}%; tanque reserva: {tanqueReserva}%\"\"\""
   ]
  },
  {
   "cell_type": "code",
   "execution_count": 11,
   "metadata": {},
   "outputs": [
    {
     "name": "stdout",
     "output_type": "stream",
     "text": [
      "Reporte de combustible:\n",
      "    Promedio: 60.0%,\n",
      "    -----------------------------------------\n",
      "    --Detalle de los tanques--\n",
      "    tanque1: 80%; tanque2: 80%; tanque reserva: 20%\n"
     ]
    }
   ],
   "source": [
    "# Llamamos a la función que genera el reporte print(funcion(tanque1, tanque2, tanque3))\n",
    "print(reporte_combustible(80, 80, 20))"
   ]
  },
  {
   "cell_type": "code",
   "execution_count": 7,
   "metadata": {},
   "outputs": [
    {
     "name": "stdout",
     "output_type": "stream",
     "text": [
      "9.428571428571429\n"
     ]
    }
   ],
   "source": [
    "# Función promedio \n",
    "def promedio(valores):\n",
    "    total= 0\n",
    "    for num in valores:\n",
    "        total = total + num\n",
    "    return total / len(valores)\n",
    "\n",
    "#probando funcion\n",
    "print(promedio([10,10,10,9,10,9,8]))"
   ]
  },
  {
   "cell_type": "code",
   "execution_count": 10,
   "metadata": {},
   "outputs": [],
   "source": [
    "# Actualiza la función\n",
    "def reporte_combustible(tanque1,tanque2,tanqueReserva):\n",
    "    prom = promedio([tanque1,tanque2,tanqueReserva])\n",
    "    return f\"\"\"Reporte de combustible:\n",
    "    Promedio: {prom}%,\n",
    "    -----------------------------------------\n",
    "    --Detalle de los tanques--\n",
    "    tanque1: {tanque1}%; tanque2: {tanque2}%; tanque reserva: {tanqueReserva}%\"\"\""
   ]
  },
  {
   "cell_type": "markdown",
   "metadata": {},
   "source": [
    "## Ejercicio 2"
   ]
  },
  {
   "cell_type": "code",
   "execution_count": 12,
   "metadata": {},
   "outputs": [
    {
     "name": "stdout",
     "output_type": "stream",
     "text": [
      "\n",
      "    --Reporte de la mision--\n",
      "    *************************************************************\n",
      "    Destino de la mision: Luna\n",
      "    Tiempo total de vuelo: 74 minutos\n",
      "    Combustible restante: 500000\n",
      "    **************************************************************\n",
      "    \n"
     ]
    }
   ],
   "source": [
    "# Función con un informe preciso de la misión. \n",
    "# Considera hora de prelanzamiento, tiempo de vuelo, destino, tanque externo y tanque interno\n",
    "\n",
    "def reporteCompleto(destino,*minutes, **fuel_reservoirs):\n",
    "    return f\"\"\"\n",
    "    --Reporte de la mision--\n",
    "    *************************************************************\n",
    "    Destino de la mision: {destino}\n",
    "    Tiempo total de vuelo: {sum(minutes)} minutos\n",
    "    Combustible restante: {sum(fuel_reservoirs.values())}\n",
    "    **************************************************************\n",
    "    \"\"\"\n",
    "\n",
    "\n",
    "#Prueba de funcion\n",
    "print(reporteCompleto(\"Luna\", 8, 11, 55, principal=300000, externo=200000))"
   ]
  },
  {
   "cell_type": "code",
   "execution_count": 14,
   "metadata": {},
   "outputs": [
    {
     "name": "stdout",
     "output_type": "stream",
     "text": [
      "\n",
      "    --Reporte de la mision--\n",
      "    *************************************************************\n",
      "    Destino de la mision: Luna\n",
      "    Tiempo total de vuelo: 74 minutos\n",
      "    Combustible restante: 500000\n",
      "    **************************************************************\n",
      "    Reporte detallado de combustible por tanque:\n",
      "    principal tanque --> 300000 litros restantes\n",
      "externo tanque --> 200000 litros restantes\n",
      "\n"
     ]
    }
   ],
   "source": [
    "# Escribe tu nueva función de reporte considerando lo anterior\n",
    "def reporteCompleto(destino,*minutes, **fuel_reservoirs):\n",
    "    reporte = f\"\"\"\n",
    "    --Reporte de la mision--\n",
    "    *************************************************************\n",
    "    Destino de la mision: {destino}\n",
    "    Tiempo total de vuelo: {sum(minutes)} minutos\n",
    "    Combustible restante: {sum(fuel_reservoirs.values())}\n",
    "    **************************************************************\n",
    "    Reporte detallado de combustible por tanque:\n",
    "    \"\"\"\n",
    "    for tank_name, litros in fuel_reservoirs.items():\n",
    "        reporte += f\"{tank_name} tanque --> {litros} litros restantes\\n\"\n",
    "    return reporte\n",
    "\n",
    "#Prueba de funcion\n",
    "print(reporteCompleto(\"Luna\", 8, 11, 55, principal=300000, externo=200000))"
   ]
  }
 ],
 "metadata": {
  "interpreter": {
   "hash": "7b50da7abfb7cad9a14b9221a5749e030aebda9dc44b46babcc0b6c708f040d7"
  },
  "kernelspec": {
   "display_name": "Python 3.8.10 64-bit (windows store)",
   "language": "python",
   "name": "python3"
  },
  "language_info": {
   "codemirror_mode": {
    "name": "ipython",
    "version": 3
   },
   "file_extension": ".py",
   "mimetype": "text/x-python",
   "name": "python",
   "nbconvert_exporter": "python",
   "pygments_lexer": "ipython3",
   "version": "3.8.10"
  },
  "orig_nbformat": 4
 },
 "nbformat": 4,
 "nbformat_minor": 2
}
